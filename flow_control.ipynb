{
 "cells": [
  {
   "cell_type": "code",
   "execution_count": 1,
   "id": "5740d3d9",
   "metadata": {},
   "outputs": [
    {
     "name": "stdout",
     "output_type": "stream",
     "text": [
      "0 is cool\n"
     ]
    }
   ],
   "source": [
    "a = 0\n",
    "\n",
    "if a < 0:\n",
    "    print(a, \"is not cool\")\n",
    "else:\n",
    "    print(a, \"is cool\")\n"
   ]
  },
  {
   "cell_type": "code",
   "execution_count": 2,
   "id": "1087b8d1",
   "metadata": {},
   "outputs": [
    {
     "name": "stdout",
     "output_type": "stream",
     "text": [
      "0 is really cool\n"
     ]
    }
   ],
   "source": [
    "a = 0\n",
    "\n",
    "if a < 0:\n",
    "    print(a, \"is not cool\")\n",
    "elif a == 0:\n",
    "    print(a, \"is really cool\")\n",
    "else:\n",
    "    print(a, \"is cool\")\n"
   ]
  },
  {
   "cell_type": "code",
   "execution_count": 3,
   "id": "3b8e6aa1",
   "metadata": {},
   "outputs": [
    {
     "name": "stdout",
     "output_type": "stream",
     "text": [
      "Enter a number: 5\n",
      "5 is cool\n"
     ]
    }
   ],
   "source": [
    "a = int(input(\"Enter a number: \"))\n",
    "\n",
    "if a < 0:\n",
    "    print(a, \"is not cool\")\n",
    "elif a == 0:\n",
    "    print(a, \"is really cool\")\n",
    "else:\n",
    "    print(a, \"is cool\")\n"
   ]
  },
  {
   "cell_type": "code",
   "execution_count": 4,
   "id": "d5286a57",
   "metadata": {},
   "outputs": [
    {
     "name": "stdout",
     "output_type": "stream",
     "text": [
      "h\n",
      "t\n",
      "s\n",
      "j\n",
      "c\n"
     ]
    }
   ],
   "source": [
    "for char in \"htsjc\":\n",
    "    print(char)"
   ]
  },
  {
   "cell_type": "code",
   "execution_count": 5,
   "id": "d5235bf5",
   "metadata": {},
   "outputs": [
    {
     "name": "stdout",
     "output_type": "stream",
     "text": [
      "c\n",
      "y\n",
      "t\n"
     ]
    }
   ],
   "source": [
    "for char in [\"htsjc\", \"gsjy\", \"gxjydt\"]:\n",
    "    print(char[-1])"
   ]
  },
  {
   "cell_type": "code",
   "execution_count": null,
   "id": "ebaabc2c",
   "metadata": {},
   "outputs": [],
   "source": []
  }
 ],
 "metadata": {
  "kernelspec": {
   "display_name": "Python 3 (ipykernel)",
   "language": "python",
   "name": "python3"
  },
  "language_info": {
   "codemirror_mode": {
    "name": "ipython",
    "version": 3
   },
   "file_extension": ".py",
   "mimetype": "text/x-python",
   "name": "python",
   "nbconvert_exporter": "python",
   "pygments_lexer": "ipython3",
   "version": "3.10.12"
  }
 },
 "nbformat": 4,
 "nbformat_minor": 5
}
